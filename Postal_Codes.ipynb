{
 "cells": [
  {
   "cell_type": "markdown",
   "metadata": {},
   "source": [
    "### Import Libraries"
   ]
  },
  {
   "cell_type": "code",
   "execution_count": 176,
   "metadata": {},
   "outputs": [],
   "source": [
    "import re\n",
    "import pandas as pd\n",
    "import numpy as np"
   ]
  },
  {
   "cell_type": "markdown",
   "metadata": {},
   "source": [
    "### Import DataFrame"
   ]
  },
  {
   "cell_type": "code",
   "execution_count": 177,
   "metadata": {},
   "outputs": [
    {
     "data": {
      "text/html": [
       "<div>\n",
       "<style scoped>\n",
       "    .dataframe tbody tr th:only-of-type {\n",
       "        vertical-align: middle;\n",
       "    }\n",
       "\n",
       "    .dataframe tbody tr th {\n",
       "        vertical-align: top;\n",
       "    }\n",
       "\n",
       "    .dataframe thead th {\n",
       "        text-align: right;\n",
       "    }\n",
       "</style>\n",
       "<table border=\"1\" class=\"dataframe\">\n",
       "  <thead>\n",
       "    <tr style=\"text-align: right;\">\n",
       "      <th></th>\n",
       "      <th>codigo_postal</th>\n",
       "      <th>localidade</th>\n",
       "      <th>distrito</th>\n",
       "      <th>dist_latitude</th>\n",
       "      <th>dist_longitude</th>\n",
       "    </tr>\n",
       "  </thead>\n",
       "  <tbody>\n",
       "    <tr>\n",
       "      <td>0</td>\n",
       "      <td>1000</td>\n",
       "      <td>São Jorge de Arroios, Lisboa</td>\n",
       "      <td>Lisboa</td>\n",
       "      <td>38.7071</td>\n",
       "      <td>-9.13549</td>\n",
       "    </tr>\n",
       "    <tr>\n",
       "      <td>1</td>\n",
       "      <td>1001</td>\n",
       "      <td>São Jorge de Arroios, Lisboa</td>\n",
       "      <td>Lisboa</td>\n",
       "      <td>38.7071</td>\n",
       "      <td>-9.13549</td>\n",
       "    </tr>\n",
       "    <tr>\n",
       "      <td>2</td>\n",
       "      <td>1002</td>\n",
       "      <td>São Jorge de Arroios, Lisboa</td>\n",
       "      <td>Lisboa</td>\n",
       "      <td>38.7071</td>\n",
       "      <td>-9.13549</td>\n",
       "    </tr>\n",
       "    <tr>\n",
       "      <td>3</td>\n",
       "      <td>1006</td>\n",
       "      <td>São Jorge de Arroios, Lisboa</td>\n",
       "      <td>Lisboa</td>\n",
       "      <td>38.7071</td>\n",
       "      <td>-9.13549</td>\n",
       "    </tr>\n",
       "    <tr>\n",
       "      <td>4</td>\n",
       "      <td>1007</td>\n",
       "      <td>São Jorge de Arroios, Lisboa</td>\n",
       "      <td>Lisboa</td>\n",
       "      <td>38.7071</td>\n",
       "      <td>-9.13549</td>\n",
       "    </tr>\n",
       "  </tbody>\n",
       "</table>\n",
       "</div>"
      ],
      "text/plain": [
       "   codigo_postal                    localidade distrito  dist_latitude  \\\n",
       "0           1000  São Jorge de Arroios, Lisboa   Lisboa        38.7071   \n",
       "1           1001  São Jorge de Arroios, Lisboa   Lisboa        38.7071   \n",
       "2           1002  São Jorge de Arroios, Lisboa   Lisboa        38.7071   \n",
       "3           1006  São Jorge de Arroios, Lisboa   Lisboa        38.7071   \n",
       "4           1007  São Jorge de Arroios, Lisboa   Lisboa        38.7071   \n",
       "\n",
       "   dist_longitude  \n",
       "0        -9.13549  \n",
       "1        -9.13549  \n",
       "2        -9.13549  \n",
       "3        -9.13549  \n",
       "4        -9.13549  "
      ]
     },
     "execution_count": 177,
     "metadata": {},
     "output_type": "execute_result"
    }
   ],
   "source": [
    "codigos_postais = pd.read_csv('https://raw.githubusercontent.com/joaogouveia18/codigos_postais/main/codigos_postais.csv',\n",
    "                     index_col=0)\n",
    "codigos_postais.head()"
   ]
  },
  {
   "cell_type": "markdown",
   "metadata": {},
   "source": [
    "### Function to Retrieve Info from Postal Code"
   ]
  },
  {
   "cell_type": "code",
   "execution_count": 178,
   "metadata": {},
   "outputs": [],
   "source": [
    "def get_info_from_cp(postal_code, col_to_return=['distrito','localidade', 'dist_latitude','dist_longitude']):\n",
    "    num = re.match(r'\\d{4}', str(postal_code)).group()\n",
    "    if int(num) in codigos_postais['codigo_postal'].values:\n",
    "        return codigos_postais[codigos_postais['codigo_postal']==int(num)][col_to_return].values[0]\n",
    "    else:\n",
    "        return 'Indefinido'"
   ]
  },
  {
   "cell_type": "code",
   "execution_count": 179,
   "metadata": {},
   "outputs": [
    {
     "data": {
      "text/plain": [
       "'Lisboa'"
      ]
     },
     "execution_count": 179,
     "metadata": {},
     "output_type": "execute_result"
    }
   ],
   "source": [
    "get_info_from_cp('2710-354', col_to_return='distrito')"
   ]
  },
  {
   "cell_type": "markdown",
   "metadata": {},
   "source": [
    "### Append Column to a DataFrame"
   ]
  },
  {
   "cell_type": "code",
   "execution_count": 180,
   "metadata": {},
   "outputs": [],
   "source": [
    "data = {'Name':  ['First value', 'Second value','Third Value'],\n",
    "        'Postal_Code': ['9956-538', '2700-564', '1001-203']}\n",
    "\n",
    "df_test = pd.DataFrame(data, columns = data.keys())"
   ]
  },
  {
   "cell_type": "code",
   "execution_count": 181,
   "metadata": {},
   "outputs": [
    {
     "data": {
      "text/html": [
       "<div>\n",
       "<style scoped>\n",
       "    .dataframe tbody tr th:only-of-type {\n",
       "        vertical-align: middle;\n",
       "    }\n",
       "\n",
       "    .dataframe tbody tr th {\n",
       "        vertical-align: top;\n",
       "    }\n",
       "\n",
       "    .dataframe thead th {\n",
       "        text-align: right;\n",
       "    }\n",
       "</style>\n",
       "<table border=\"1\" class=\"dataframe\">\n",
       "  <thead>\n",
       "    <tr style=\"text-align: right;\">\n",
       "      <th></th>\n",
       "      <th>Name</th>\n",
       "      <th>Postal_Code</th>\n",
       "    </tr>\n",
       "  </thead>\n",
       "  <tbody>\n",
       "    <tr>\n",
       "      <td>0</td>\n",
       "      <td>First value</td>\n",
       "      <td>9956-538</td>\n",
       "    </tr>\n",
       "    <tr>\n",
       "      <td>1</td>\n",
       "      <td>Second value</td>\n",
       "      <td>2700-564</td>\n",
       "    </tr>\n",
       "    <tr>\n",
       "      <td>2</td>\n",
       "      <td>Third Value</td>\n",
       "      <td>1001-203</td>\n",
       "    </tr>\n",
       "  </tbody>\n",
       "</table>\n",
       "</div>"
      ],
      "text/plain": [
       "           Name Postal_Code\n",
       "0   First value    9956-538\n",
       "1  Second value    2700-564\n",
       "2   Third Value    1001-203"
      ]
     },
     "execution_count": 181,
     "metadata": {},
     "output_type": "execute_result"
    }
   ],
   "source": [
    "df_test"
   ]
  },
  {
   "cell_type": "code",
   "execution_count": 182,
   "metadata": {},
   "outputs": [],
   "source": [
    "df_test['Distrito'] = np.vectorize(get_info_from_cp)(df_test['Postal_Code'],'distrito')"
   ]
  },
  {
   "cell_type": "code",
   "execution_count": 183,
   "metadata": {},
   "outputs": [
    {
     "data": {
      "text/html": [
       "<div>\n",
       "<style scoped>\n",
       "    .dataframe tbody tr th:only-of-type {\n",
       "        vertical-align: middle;\n",
       "    }\n",
       "\n",
       "    .dataframe tbody tr th {\n",
       "        vertical-align: top;\n",
       "    }\n",
       "\n",
       "    .dataframe thead th {\n",
       "        text-align: right;\n",
       "    }\n",
       "</style>\n",
       "<table border=\"1\" class=\"dataframe\">\n",
       "  <thead>\n",
       "    <tr style=\"text-align: right;\">\n",
       "      <th></th>\n",
       "      <th>Name</th>\n",
       "      <th>Postal_Code</th>\n",
       "      <th>Distrito</th>\n",
       "    </tr>\n",
       "  </thead>\n",
       "  <tbody>\n",
       "    <tr>\n",
       "      <td>0</td>\n",
       "      <td>First value</td>\n",
       "      <td>9956-538</td>\n",
       "      <td>Indefinido</td>\n",
       "    </tr>\n",
       "    <tr>\n",
       "      <td>1</td>\n",
       "      <td>Second value</td>\n",
       "      <td>2700-564</td>\n",
       "      <td>Lisboa</td>\n",
       "    </tr>\n",
       "    <tr>\n",
       "      <td>2</td>\n",
       "      <td>Third Value</td>\n",
       "      <td>1001-203</td>\n",
       "      <td>Lisboa</td>\n",
       "    </tr>\n",
       "  </tbody>\n",
       "</table>\n",
       "</div>"
      ],
      "text/plain": [
       "           Name Postal_Code    Distrito\n",
       "0   First value    9956-538  Indefinido\n",
       "1  Second value    2700-564      Lisboa\n",
       "2   Third Value    1001-203      Lisboa"
      ]
     },
     "execution_count": 183,
     "metadata": {},
     "output_type": "execute_result"
    }
   ],
   "source": [
    "df_test.head()"
   ]
  },
  {
   "cell_type": "code",
   "execution_count": null,
   "metadata": {},
   "outputs": [],
   "source": []
  }
 ],
 "metadata": {
  "kernelspec": {
   "display_name": "Python 3",
   "language": "python",
   "name": "python3"
  },
  "language_info": {
   "codemirror_mode": {
    "name": "ipython",
    "version": 3
   },
   "file_extension": ".py",
   "mimetype": "text/x-python",
   "name": "python",
   "nbconvert_exporter": "python",
   "pygments_lexer": "ipython3",
   "version": "3.6.9"
  }
 },
 "nbformat": 4,
 "nbformat_minor": 4
}
